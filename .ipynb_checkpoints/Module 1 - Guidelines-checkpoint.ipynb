{
 "cells": [
  {
   "cell_type": "code",
   "execution_count": 1,
   "metadata": {},
   "outputs": [],
   "source": [
    "import os\n",
    "import openai"
   ]
  },
  {
   "cell_type": "code",
   "execution_count": 2,
   "metadata": {},
   "outputs": [],
   "source": [
    "openai.api_key  = os.getenv('OPENAI_API_KEY')"
   ]
  },
  {
   "cell_type": "code",
   "execution_count": 3,
   "metadata": {},
   "outputs": [],
   "source": [
    "# defining a function that will help with getting prompts working\n",
    "\n",
    "def get_completion(prompt, model=\"gpt-3.5-turbo\"):  # using the \"gpt-3.5-turbo\" model\n",
    "    messages = [{\"role\": \"user\", \"content\": prompt}]\n",
    "    response = openai.ChatCompletion.create(\n",
    "        model=model,\n",
    "        messages=messages,\n",
    "        temperature=0, # this is the degree of randomness of the model's output\n",
    "    )\n",
    "    return response.choices[0].message[\"content\"]"
   ]
  },
  {
   "cell_type": "markdown",
   "metadata": {},
   "source": [
    "### Principle-1:\n",
    "- Write clear and specific instructions\n",
    "\n",
    "**Tactic 1:** Use delimiters to differentiate the different parts of the input."
   ]
  },
  {
   "cell_type": "code",
   "execution_count": 6,
   "metadata": {},
   "outputs": [],
   "source": [
    "text = f\"\"\"\n",
    "    In the city of Metropolis, Superman soared high, a symbol of hope. \\\n",
    "    Born on Krypton, he was sent to Earth, his incredible powers a secret he would keep. \\\n",
    "    Raised by the Kents in Smallville, he embraced his destiny with grace. \\\n",
    "    By day, a mild-mannered reporter; by night, a hero with a determined face. \\\n",
    "    With strength and flight, he battled evil, protecting the innocent from harm. \\\n",
    "    His unwavering moral compass, his guiding light, kept him strong and calm. \\\n",
    "    Kryptonite, his only weakness, a reminder of his distant past. \\\n",
    "    But he faced it with courage, for the greater good, his duty steadfast. \\\n",
    "    Admired and adored, he inspired hope, a symbol of justice and might. \\\n",
    "    With his powers, he fought villains, always emerging victorious in the fight. \\\n",
    "    Superman, the Man of Steel, an icon of truth, justice, and the American way. \\\n",
    "    His legend lives on, a reminder that heroes walk among us every day. \\\n",
    "    Through darkness and chaos, he brought light, a beacon shining bright. \\\n",
    "    In just 15 lines, the tale of Superman, a hero of incredible might. \\\n",
    "    \"\"\"\n",
    "\n",
    "prompt = f\"\"\"\n",
    "Summarize the text delimited by triple backticks \\ \n",
    "into a single sentence.\n",
    "```{text}```\n",
    "\"\"\""
   ]
  },
  {
   "cell_type": "code",
   "execution_count": 7,
   "metadata": {},
   "outputs": [
    {
     "data": {
      "text/plain": [
       "'The text describes the story of Superman, a hero with incredible powers who was born on Krypton, raised by the Kents in Smallville, and battled evil to protect the innocent, all while maintaining a mild-mannered reporter persona during the day and facing his only weakness, Kryptonite, with courage for the greater good.'"
      ]
     },
     "execution_count": 7,
     "metadata": {},
     "output_type": "execute_result"
    }
   ],
   "source": [
    "response = get_completion(prompt)\n",
    "response"
   ]
  },
  {
   "cell_type": "markdown",
   "metadata": {},
   "source": [
    "**Tactic 2:** Ask for structured output"
   ]
  },
  {
   "cell_type": "code",
   "execution_count": 15,
   "metadata": {},
   "outputs": [],
   "source": [
    "prompt = f\"\"\"\n",
    "Generate a list of any 3 random John Mayer songs \\\n",
    "from each of his album till 2021.\n",
    "Provide them in a JSON format with the following keys:\n",
    "album_name, genre, song_title, year.\n",
    "\"\"\""
   ]
  },
  {
   "cell_type": "code",
   "execution_count": 16,
   "metadata": {},
   "outputs": [
    {
     "name": "stdout",
     "output_type": "stream",
     "text": [
      "{\n",
      "  \"album_name\": \"Room for Squares\",\n",
      "  \"genre\": \"Pop rock\",\n",
      "  \"song_title\": [\n",
      "    \"No Such Thing\",\n",
      "    \"Your Body Is a Wonderland\",\n",
      "    \"Why Georgia\"\n",
      "  ],\n",
      "  \"year\": 2001\n",
      "}\n",
      "\n",
      "{\n",
      "  \"album_name\": \"Heavier Things\",\n",
      "  \"genre\": \"Pop rock\",\n",
      "  \"song_title\": [\n",
      "    \"Clarity\",\n",
      "    \"Daughters\",\n",
      "    \"Bigger Than My Body\"\n",
      "  ],\n",
      "  \"year\": 2003\n",
      "}\n",
      "\n",
      "{\n",
      "  \"album_name\": \"Continuum\",\n",
      "  \"genre\": \"Blues rock\",\n",
      "  \"song_title\": [\n",
      "    \"Gravity\",\n",
      "    \"Waiting on the World to Change\",\n",
      "    \"Slow Dancing in a Burning Room\"\n",
      "  ],\n",
      "  \"year\": 2006\n",
      "}\n",
      "\n",
      "{\n",
      "  \"album_name\": \"Battle Studies\",\n",
      "  \"genre\": \"Pop rock\",\n",
      "  \"song_title\": [\n",
      "    \"Heartbreak Warfare\",\n",
      "    \"Half of My Heart\",\n",
      "    \"Who Says\"\n",
      "  ],\n",
      "  \"year\": 2009\n",
      "}\n",
      "\n",
      "{\n",
      "  \"album_name\": \"Born and Raised\",\n",
      "  \"genre\": \"Folk rock\",\n",
      "  \"song_title\": [\n",
      "    \"Queen of California\",\n",
      "    \"Shadow Days\",\n",
      "    \"Born and Raised\"\n",
      "  ],\n",
      "  \"year\": 2012\n",
      "}\n",
      "\n",
      "{\n",
      "  \"album_name\": \"Paradise Valley\",\n",
      "  \"genre\": \"Folk rock\",\n",
      "  \"song_title\": [\n",
      "    \"Wildfire\",\n",
      "    \"Paper Doll\",\n",
      "    \"Who You Love\"\n",
      "  ],\n",
      "  \"year\": 2013\n",
      "}\n",
      "\n",
      "{\n",
      "  \"album_name\": \"The Search for Everything\",\n",
      "  \"genre\": \"Pop rock\",\n",
      "  \"song_title\": [\n",
      "    \"Love on the Weekend\",\n",
      "    \"Still Feel Like Your Man\",\n",
      "    \"In the Blood\"\n",
      "  ],\n",
      "  \"year\": 2017\n",
      "}\n",
      "\n",
      "{\n",
      "  \"album_name\": \"Sob Rock\",\n",
      "  \"genre\": \"Soft rock\",\n",
      "  \"song_title\": [\n",
      "    \"Last Train Home\",\n",
      "    \"Shouldn't Matter but It Does\",\n",
      "    \"New Light\"\n",
      "  ],\n",
      "  \"year\": 2021\n",
      "}\n"
     ]
    }
   ],
   "source": [
    "response = get_completion(prompt)\n",
    "print(response)"
   ]
  },
  {
   "cell_type": "code",
   "execution_count": null,
   "metadata": {},
   "outputs": [],
   "source": []
  }
 ],
 "metadata": {
  "kernelspec": {
   "display_name": "Python 3",
   "language": "python",
   "name": "python3"
  },
  "language_info": {
   "codemirror_mode": {
    "name": "ipython",
    "version": 3
   },
   "file_extension": ".py",
   "mimetype": "text/x-python",
   "name": "python",
   "nbconvert_exporter": "python",
   "pygments_lexer": "ipython3",
   "version": "3.8.3"
  }
 },
 "nbformat": 4,
 "nbformat_minor": 4
}
