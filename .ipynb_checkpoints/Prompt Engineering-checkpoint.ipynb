{
 "cells": [
  {
   "cell_type": "code",
   "execution_count": 1,
   "metadata": {},
   "outputs": [],
   "source": [
    "import os\n",
    "import openai"
   ]
  },
  {
   "cell_type": "code",
   "execution_count": 2,
   "metadata": {},
   "outputs": [],
   "source": [
    "openai.api_key  = os.getenv('OPENAI_API_KEY')"
   ]
  },
  {
   "cell_type": "code",
   "execution_count": 3,
   "metadata": {},
   "outputs": [],
   "source": [
    "# defining a function that will help with getting prompts working\n",
    "\n",
    "def get_completion(prompt, model=\"gpt-3.5-turbo\"):  # using the \"gpt-3.5-turbo\" model\n",
    "    messages = [{\"role\": \"user\", \"content\": prompt}]\n",
    "    response = openai.ChatCompletion.create(\n",
    "        model=model,\n",
    "        messages=messages,\n",
    "        temperature=0, # this is the degree of randomness of the model's output\n",
    "    )\n",
    "    return response.choices[0].message[\"content\"]"
   ]
  },
  {
   "cell_type": "markdown",
   "metadata": {},
   "source": [
    "### Principle-1:\n",
    "- Write clear and specific instructions\n",
    "\n",
    "**Tactic 1:** Use delimiters to differentiate the different parts of the input."
   ]
  },
  {
   "cell_type": "code",
   "execution_count": 6,
   "metadata": {},
   "outputs": [],
   "source": [
    "text = f\"\"\"\n",
    "    In the city of Metropolis, Superman soared high, a symbol of hope. \\\n",
    "    Born on Krypton, he was sent to Earth, his incredible powers a secret he would keep. \\\n",
    "    Raised by the Kents in Smallville, he embraced his destiny with grace. \\\n",
    "    By day, a mild-mannered reporter; by night, a hero with a determined face. \\\n",
    "    With strength and flight, he battled evil, protecting the innocent from harm. \\\n",
    "    His unwavering moral compass, his guiding light, kept him strong and calm. \\\n",
    "    Kryptonite, his only weakness, a reminder of his distant past. \\\n",
    "    But he faced it with courage, for the greater good, his duty steadfast. \\\n",
    "    Admired and adored, he inspired hope, a symbol of justice and might. \\\n",
    "    With his powers, he fought villains, always emerging victorious in the fight. \\\n",
    "    Superman, the Man of Steel, an icon of truth, justice, and the American way. \\\n",
    "    His legend lives on, a reminder that heroes walk among us every day. \\\n",
    "    Through darkness and chaos, he brought light, a beacon shining bright. \\\n",
    "    In just 15 lines, the tale of Superman, a hero of incredible might. \\\n",
    "    \"\"\"\n",
    "\n",
    "prompt = f\"\"\"\n",
    "Summarize the text delimited by triple backticks \\ \n",
    "into a single sentence.\n",
    "```{text}```\n",
    "\"\"\""
   ]
  },
  {
   "cell_type": "code",
   "execution_count": 7,
   "metadata": {},
   "outputs": [
    {
     "data": {
      "text/plain": [
       "'The text describes the story of Superman, a hero with incredible powers who was born on Krypton, raised by the Kents in Smallville, and battled evil to protect the innocent, all while maintaining a mild-mannered reporter persona during the day and facing his only weakness, Kryptonite, with courage for the greater good.'"
      ]
     },
     "execution_count": 7,
     "metadata": {},
     "output_type": "execute_result"
    }
   ],
   "source": [
    "response = get_completion(prompt)\n",
    "response"
   ]
  },
  {
   "cell_type": "markdown",
   "metadata": {},
   "source": [
    "**Tactic 2:** Ask for structured output"
   ]
  },
  {
   "cell_type": "code",
   "execution_count": 15,
   "metadata": {},
   "outputs": [],
   "source": [
    "prompt = f\"\"\"\n",
    "Generate a list of any 3 random John Mayer songs \\\n",
    "from each of his album till 2021.\n",
    "Provide them in a JSON format with the following keys:\n",
    "album_name, genre, song_title, year.\n",
    "\"\"\""
   ]
  },
  {
   "cell_type": "code",
   "execution_count": 16,
   "metadata": {},
   "outputs": [
    {
     "name": "stdout",
     "output_type": "stream",
     "text": [
      "{\n",
      "  \"album_name\": \"Room for Squares\",\n",
      "  \"genre\": \"Pop rock\",\n",
      "  \"song_title\": [\n",
      "    \"No Such Thing\",\n",
      "    \"Your Body Is a Wonderland\",\n",
      "    \"Why Georgia\"\n",
      "  ],\n",
      "  \"year\": 2001\n",
      "}\n",
      "\n",
      "{\n",
      "  \"album_name\": \"Heavier Things\",\n",
      "  \"genre\": \"Pop rock\",\n",
      "  \"song_title\": [\n",
      "    \"Clarity\",\n",
      "    \"Daughters\",\n",
      "    \"Bigger Than My Body\"\n",
      "  ],\n",
      "  \"year\": 2003\n",
      "}\n",
      "\n",
      "{\n",
      "  \"album_name\": \"Continuum\",\n",
      "  \"genre\": \"Blues rock\",\n",
      "  \"song_title\": [\n",
      "    \"Gravity\",\n",
      "    \"Waiting on the World to Change\",\n",
      "    \"Slow Dancing in a Burning Room\"\n",
      "  ],\n",
      "  \"year\": 2006\n",
      "}\n",
      "\n",
      "{\n",
      "  \"album_name\": \"Battle Studies\",\n",
      "  \"genre\": \"Pop rock\",\n",
      "  \"song_title\": [\n",
      "    \"Heartbreak Warfare\",\n",
      "    \"Half of My Heart\",\n",
      "    \"Who Says\"\n",
      "  ],\n",
      "  \"year\": 2009\n",
      "}\n",
      "\n",
      "{\n",
      "  \"album_name\": \"Born and Raised\",\n",
      "  \"genre\": \"Folk rock\",\n",
      "  \"song_title\": [\n",
      "    \"Queen of California\",\n",
      "    \"Shadow Days\",\n",
      "    \"Born and Raised\"\n",
      "  ],\n",
      "  \"year\": 2012\n",
      "}\n",
      "\n",
      "{\n",
      "  \"album_name\": \"Paradise Valley\",\n",
      "  \"genre\": \"Folk rock\",\n",
      "  \"song_title\": [\n",
      "    \"Wildfire\",\n",
      "    \"Paper Doll\",\n",
      "    \"Who You Love\"\n",
      "  ],\n",
      "  \"year\": 2013\n",
      "}\n",
      "\n",
      "{\n",
      "  \"album_name\": \"The Search for Everything\",\n",
      "  \"genre\": \"Pop rock\",\n",
      "  \"song_title\": [\n",
      "    \"Love on the Weekend\",\n",
      "    \"Still Feel Like Your Man\",\n",
      "    \"In the Blood\"\n",
      "  ],\n",
      "  \"year\": 2017\n",
      "}\n",
      "\n",
      "{\n",
      "  \"album_name\": \"Sob Rock\",\n",
      "  \"genre\": \"Soft rock\",\n",
      "  \"song_title\": [\n",
      "    \"Last Train Home\",\n",
      "    \"Shouldn't Matter but It Does\",\n",
      "    \"New Light\"\n",
      "  ],\n",
      "  \"year\": 2021\n",
      "}\n"
     ]
    }
   ],
   "source": [
    "response = get_completion(prompt)\n",
    "print(response)"
   ]
  },
  {
   "cell_type": "markdown",
   "metadata": {},
   "source": [
    "**Tactic 3:** Check whether conditions are satisfied and check assumptions required to do the task"
   ]
  },
  {
   "cell_type": "code",
   "execution_count": 17,
   "metadata": {},
   "outputs": [
    {
     "name": "stdout",
     "output_type": "stream",
     "text": [
      "Completion for Text 1:\n",
      "Step 1 - Get some water boiling.\n",
      "Step 2 - Grab a cup and put a tea bag in it.\n",
      "Step 3 - Once the water is hot enough, pour it over the tea bag.\n",
      "Step 4 - Let it sit for a bit so the tea can steep.\n",
      "Step 5 - After a few minutes, take out the tea bag.\n",
      "Step 6 - Add some sugar or milk to taste.\n",
      "Step 7 - Enjoy your delicious cup of tea!\n",
      "\n",
      "\n"
     ]
    }
   ],
   "source": [
    "text_1 = f\"\"\"\n",
    "Making a cup of tea is easy! First, you need to get some \\ \n",
    "water boiling. While that's happening, \\ \n",
    "grab a cup and put a tea bag in it. Once the water is \\ \n",
    "hot enough, just pour it over the tea bag. \\ \n",
    "Let it sit for a bit so the tea can steep. After a \\ \n",
    "few minutes, take out the tea bag. If you \\ \n",
    "like, you can add some sugar or milk to taste. \\ \n",
    "And that's it! You've got yourself a delicious \\ \n",
    "cup of tea to enjoy.\n",
    "\"\"\"\n",
    "prompt = f\"\"\"\n",
    "You will be provided with text delimited by triple quotes. \n",
    "If it contains a sequence of instructions, \\ \n",
    "re-write those instructions in the following format:\n",
    "\n",
    "Step 1 - ...\n",
    "Step 2 - …\n",
    "…\n",
    "Step N - …\n",
    "\n",
    "If the text does not contain a sequence of instructions, \\ \n",
    "then simply write \\\"No steps provided.\\\"\n",
    "\n",
    "\\\"\\\"\\\"{text_1}\\\"\\\"\\\"\n",
    "\"\"\"\n",
    "response = get_completion(prompt)\n",
    "print(\"Completion for Text 1:\")\n",
    "print(response)"
   ]
  },
  {
   "cell_type": "code",
   "execution_count": 18,
   "metadata": {},
   "outputs": [
    {
     "name": "stdout",
     "output_type": "stream",
     "text": [
      "Completion for Text 2:\n",
      "No steps provided.\n"
     ]
    }
   ],
   "source": [
    "text_2 = f\"\"\"\n",
    "The sun is shining brightly today, and the birds are \\\n",
    "singing. It's a beautiful day to go for a \\ \n",
    "walk in the park. The flowers are blooming, and the \\ \n",
    "trees are swaying gently in the breeze. People \\ \n",
    "are out and about, enjoying the lovely weather. \\ \n",
    "Some are having picnics, while others are playing \\ \n",
    "games or simply relaxing on the grass. It's a \\ \n",
    "perfect day to spend time outdoors and appreciate the \\ \n",
    "beauty of nature.\n",
    "\"\"\"\n",
    "prompt = f\"\"\"\n",
    "You will be provided with text delimited by triple quotes. \n",
    "If it contains a sequence of instructions, \\ \n",
    "re-write those instructions in the following format:\n",
    "\n",
    "Step 1 - ...\n",
    "Step 2 - …\n",
    "…\n",
    "Step N - …\n",
    "\n",
    "If the text does not contain a sequence of instructions, \\ \n",
    "then simply write \\\"No steps provided.\\\"\n",
    "\n",
    "\\\"\\\"\\\"{text_2}\\\"\\\"\\\"\n",
    "\"\"\"\n",
    "response = get_completion(prompt)\n",
    "print(\"Completion for Text 2:\")\n",
    "print(response)"
   ]
  },
  {
   "cell_type": "markdown",
   "metadata": {},
   "source": [
    "**In test 2 it can be seen that there are no instructions per se and if it isn't then it will change its output according to the prompt.**"
   ]
  },
  {
   "cell_type": "markdown",
   "metadata": {},
   "source": [
    "**Tactic 4:** Few-shot prompting"
   ]
  },
  {
   "cell_type": "code",
   "execution_count": 19,
   "metadata": {},
   "outputs": [
    {
     "name": "stdout",
     "output_type": "stream",
     "text": [
      "<grandparent>: Resilience is like a tree that bends with the wind but never breaks. It is the ability to bounce back from adversity and keep moving forward, even when things get tough. Just like a tree that grows stronger with each storm it weathers, resilience is a quality that can be developed and strengthened over time.\n"
     ]
    }
   ],
   "source": [
    "prompt = f\"\"\"\n",
    "Your task is to answer in a consistent style.\n",
    "\n",
    "<child>: Teach me about patience.\n",
    "\n",
    "<grandparent>: The river that carves the deepest \\ \n",
    "valley flows from a modest spring; the \\ \n",
    "grandest symphony originates from a single note; \\ \n",
    "the most intricate tapestry begins with a solitary thread.\n",
    "\n",
    "<child>: Teach me about resilience.\n",
    "\"\"\"\n",
    "response = get_completion(prompt)\n",
    "print(response)"
   ]
  },
  {
   "cell_type": "markdown",
   "metadata": {},
   "source": [
    "**Give successful examples of completing tasks then ask the model to perform the task.**"
   ]
  },
  {
   "cell_type": "code",
   "execution_count": null,
   "metadata": {},
   "outputs": [],
   "source": []
  }
 ],
 "metadata": {
  "kernelspec": {
   "display_name": "Python 3",
   "language": "python",
   "name": "python3"
  },
  "language_info": {
   "codemirror_mode": {
    "name": "ipython",
    "version": 3
   },
   "file_extension": ".py",
   "mimetype": "text/x-python",
   "name": "python",
   "nbconvert_exporter": "python",
   "pygments_lexer": "ipython3",
   "version": "3.8.3"
  }
 },
 "nbformat": 4,
 "nbformat_minor": 4
}
